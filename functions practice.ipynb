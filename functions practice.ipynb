{
 "cells": [
  {
   "cell_type": "code",
   "execution_count": 1,
   "id": "f2525dff-6ec3-46b1-b8f1-c1b32df32a2d",
   "metadata": {},
   "outputs": [
    {
     "name": "stdin",
     "output_type": "stream",
     "text": [
      "enter here:  mehar\n",
      "enter time monday\n"
     ]
    },
    {
     "name": "stdout",
     "output_type": "stream",
     "text": [
      "Hi,mehar! we hope that you are doing well ,we wish you a very good luck for your exam,monday\n"
     ]
    }
   ],
   "source": [
    "user= input(\"enter here: \")\n",
    "current_time_user=input(\"enter time\")\n",
    "def greet_with_time(name, current_time):\n",
    "    print(\"Hi,\"+name+\"! we hope that you are doing well ,we wish you a very good luck for your exam,\" +current_time)\n",
    "greet_with_time(user, current_time_user)\n"
   ]
  },
  {
   "cell_type": "code",
   "execution_count": 15,
   "id": "4e815144-2c8f-4367-8c3d-173944d530fd",
   "metadata": {},
   "outputs": [
    {
     "name": "stdin",
     "output_type": "stream",
     "text": [
      "enter marks here:  98\n",
      "enter marks here:  99\n",
      "enter marks here:  90\n"
     ]
    },
    {
     "name": "stdout",
     "output_type": "stream",
     "text": [
      "227.0\n"
     ]
    }
   ],
   "source": [
    "marks1=int(input(\"enter marks here: \"))\n",
    "marks2=int(input(\"enter marks here: \"))\n",
    "marks3=int(input(\"enter marks here: \"))\n",
    "def calculate_average(marks1 ,marks2, marks3):\n",
    "    average= (marks1 + marks2 +marks3 / 3)\n",
    "    return average\n",
    "average=calculate_average(marks1 , marks2, marks3)\n",
    "\n",
    "print(average)\n",
    "\n"
   ]
  },
  {
   "cell_type": "code",
   "execution_count": 21,
   "id": "c2ee889f-4c49-4ed1-a56e-965663790c3c",
   "metadata": {},
   "outputs": [
    {
     "name": "stdin",
     "output_type": "stream",
     "text": [
      "enter here:  1000\n",
      "enter discount percent here :  10\n"
     ]
    },
    {
     "name": "stdout",
     "output_type": "stream",
     "text": [
      "100.0\n"
     ]
    }
   ],
   "source": [
    "price=int(input(\"enter here: \"))\n",
    "discount=int(input(\"enter discount percent here : \"))\n",
    "def calculate_discount(price, discount):\n",
    "    total=price * discount/100\n",
    "    return total\n",
    "total = calculate_discount(price, discount)\n",
    "print(total)"
   ]
  },
  {
   "cell_type": "code",
   "execution_count": 23,
   "id": "755fa1ef-1aba-4236-b019-bbce7d7b937b",
   "metadata": {},
   "outputs": [
    {
     "name": "stdout",
     "output_type": "stream",
     "text": [
      "mehar javedyou are,18years old, you live in,lahore\n"
     ]
    }
   ],
   "source": [
    "def print_info (name, age, city):\n",
    "    print(name+ \"you are,\"+str (age)+\"years old, you live in,\"+city)\n",
    "print_info(name=\"mehar javed\", age=18, city=\"lahore\")"
   ]
  },
  {
   "cell_type": "code",
   "execution_count": 27,
   "id": "5bdf276b-fb77-4f86-b4e4-fd0b39dd3e5c",
   "metadata": {},
   "outputs": [
    {
     "data": {
      "text/plain": [
       "11"
      ]
     },
     "execution_count": 27,
     "metadata": {},
     "output_type": "execute_result"
    }
   ],
   "source": [
    "arguments=(1, 7, 5, 11)\n",
    "def find_max(arguments):\n",
    "    maximum= max(arguments)\n",
    "    return maximum\n",
    "find_max(arguments)"
   ]
  },
  {
   "cell_type": "code",
   "execution_count": 29,
   "id": "10c81b72-0f0c-4f62-9cab-e925206b9615",
   "metadata": {},
   "outputs": [
    {
     "data": {
      "text/plain": [
       "120"
      ]
     },
     "execution_count": 29,
     "metadata": {},
     "output_type": "execute_result"
    }
   ],
   "source": [
    "total=1\n",
    "number = 5\n",
    "def factorial(number,total):\n",
    "    while number>=1:\n",
    "        total*=number\n",
    "        number=number-1\n",
    "    return total\n",
    "factorial(number,total)\n"
   ]
  },
  {
   "cell_type": "code",
   "execution_count": 25,
   "id": "a1faf187-bc26-4101-b00e-846a4e0ba3cc",
   "metadata": {},
   "outputs": [
    {
     "name": "stdout",
     "output_type": "stream",
     "text": [
      "36\n"
     ]
    }
   ],
   "source": [
    "number=lambda a : a**2\n",
    "square = number(6)\n",
    "print(square)"
   ]
  },
  {
   "cell_type": "code",
   "execution_count": null,
   "id": "59b9b941-af56-47d4-b739-ec31e5cad40d",
   "metadata": {},
   "outputs": [],
   "source": []
  }
 ],
 "metadata": {
  "kernelspec": {
   "display_name": "Python 3 (ipykernel)",
   "language": "python",
   "name": "python3"
  },
  "language_info": {
   "codemirror_mode": {
    "name": "ipython",
    "version": 3
   },
   "file_extension": ".py",
   "mimetype": "text/x-python",
   "name": "python",
   "nbconvert_exporter": "python",
   "pygments_lexer": "ipython3",
   "version": "3.12.4"
  }
 },
 "nbformat": 4,
 "nbformat_minor": 5
}
