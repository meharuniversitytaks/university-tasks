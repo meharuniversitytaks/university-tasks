{
 "cells": [
  {
   "cell_type": "code",
   "execution_count": 1,
   "id": "0176b151-d8c3-4347-b913-6adbf3c1b922",
   "metadata": {},
   "outputs": [
    {
     "name": "stdout",
     "output_type": "stream",
     "text": [
      "{'i': 2, 'am': 2, 'Mehar,': 1, 'on': 1, 'the': 1, 'road': 1, 'to': 1, 'become': 1, 'a': 2, 'programmer': 1, 'and': 1, 'data': 1, 'analyst': 1}\n"
     ]
    }
   ],
   "source": [
    "# Frequency of words\n",
    "myself = \"i am Mehar, i am on the road to become a programmer and a data analyst\"\n",
    "\n",
    "words = myself.split()\n",
    "wordcount = {}\n",
    "\n",
    "for word in words:    \n",
    "    if word in wordcount:\n",
    "        wordcount[word] += 1  \n",
    "    else:\n",
    "        wordcount[word] = 1 \n",
    "print(wordcount)"
   ]
  },
  {
   "cell_type": "code",
   "execution_count": 13,
   "id": "5231fd9a-ca9c-4f0a-80ad-906d0eecc6fd",
   "metadata": {},
   "outputs": [],
   "source": [
    "person={\n",
    "    \"name\":\"Mehar Javed\",\n",
    "    \"age\":18,\n",
    "    \"hobby\":\"cooking\",\n",
    "    \"city\":\"Lahore\"\n",
    "}"
   ]
  },
  {
   "cell_type": "code",
   "execution_count": 3,
   "id": "8ed131c5-4e6a-4eb8-9eff-ae67eea1b9f2",
   "metadata": {},
   "outputs": [
    {
     "name": "stdout",
     "output_type": "stream",
     "text": [
      "{'banana': 100, 'orange': 50, 'dates': 70, 'cherry': 90, 'apple': 55}\n"
     ]
    }
   ],
   "source": [
    "inventary ={\n",
    "    \"apple\" : 100,\n",
    "    \"banana\":100,\n",
    "    \"orange\": 50,\n",
    "    \"dates\": 70\n",
    "}\n",
    "del inventary['apple']\n",
    "inventary['cherry']=90\n",
    "inventary['apple']=55\n",
    "print(inventary)\n",
    "    "
   ]
  },
  {
   "cell_type": "code",
   "execution_count": 5,
   "id": "177a43f8-326f-4a40-9cb9-74013830f768",
   "metadata": {},
   "outputs": [
    {
     "name": "stdout",
     "output_type": "stream",
     "text": [
      "the most ordered product is product d\n"
     ]
    }
   ],
   "source": [
    "customer_order={\n",
    "    \"product a\" : 100,\n",
    "    \"product b\": 70,\n",
    "    \"product c\": 110,\n",
    "    \"product d\": 19\n",
    "}\n",
    "most_ordered=max(customer_order.keys())\n",
    "print(\"the most ordered product is\",most_ordered)\n",
    "                \n",
    "\n"
   ]
  },
  {
   "cell_type": "code",
   "execution_count": 7,
   "id": "94e353a9-1be4-45f3-9728-38ebca93b1ea",
   "metadata": {},
   "outputs": [
    {
     "name": "stdout",
     "output_type": "stream",
     "text": [
      "the average of students is: 90.66666666666667\n"
     ]
    }
   ],
   "source": [
    "grade={\n",
    "    \"Mehar\": 91,\n",
    "    \"Muzna\": 90,\n",
    "    \"Reeda\": 91\n",
    "}\n",
    "total_students=len(grade)\n",
    "print (\"the average of students is:\",sum(grade.values())/total_students )\n",
    "\n",
    "    "
   ]
  },
  {
   "cell_type": "code",
   "execution_count": 9,
   "id": "46b8c543-9b65-4f23-9066-58a41ea0db8d",
   "metadata": {},
   "outputs": [
    {
     "name": "stdout",
     "output_type": "stream",
     "text": [
      "{'soap': {'quantity': 19, 'price': 50}, 'shampoo': {'quantity': 23, 'price': 900}, 'washing powder': {'quantity': 79, 'price': 800}, 'tooth paste': {'quantity': 10, 'price': 80}, 'facewash': {'quantity': 45, 'price': 550}}\n"
     ]
    }
   ],
   "source": [
    "stock={\n",
    "    \"soap\"   :       { \"quantity\":20,  \"price\":50},\n",
    "   \"shampoo\" :       {\"quantity\":23,    \"price\":900},\n",
    "    \"washing powder\": {\"quantity\":79,    \"price\":800},\n",
    "    \"tooth paste\":    {\"quantity\":10,    \"price\":80}\n",
    "}\n",
    "stock['facewash']={\"quantity\":45,\"price\":550}\n",
    "stock[\"soap\"][\"quantity\"]=19\n",
    "print(stock)"
   ]
  },
  {
   "cell_type": "code",
   "execution_count": 11,
   "id": "13787257-4eae-4ae0-8a3a-d1e39edd282f",
   "metadata": {},
   "outputs": [
    {
     "name": "stdout",
     "output_type": "stream",
     "text": [
      "176\n"
     ]
    }
   ],
   "source": [
    "total_quantity =0\n",
    "for key,values in stock.items():\n",
    "    if 'quantity' in values:\n",
    "        total_quantity+=values[\"quantity\"]\n",
    "print(total_quantity)\n",
    " "
   ]
  },
  {
   "cell_type": "code",
   "execution_count": 45,
   "id": "bb9a1d5c-ab79-4dc3-9fb9-d86445bfbbea",
   "metadata": {},
   "outputs": [
    {
     "name": "stdout",
     "output_type": "stream",
     "text": [
      "maths\n",
      "maths\n",
      "maths\n",
      "285\n",
      "277\n",
      "the average is: 187.33333333333334\n"
     ]
    }
   ],
   "source": [
    "std_data={\n",
    "    \"Mehar\":{\"maths\":100, \"islamiat\":90},\n",
    "    \"Muzna\":{\"maths\":90, \"islamiat\":95},\n",
    "    \"Reeda\":{\"maths\":95, \"islamiat\":92}\n",
    "}\n",
    "total_std=len(std_data)\n",
    "total_maths=0\n",
    "total_isl=0\n",
    "for key,values in std_data.items():\n",
    "    if \"maths\" in values:\n",
    "        total_maths+=values[\"maths\"]\n",
    "        if \"islamiat\" in values:\n",
    "            total_isl+=values[\"islamiat\"]\n",
    "print(total_maths)\n",
    "print(total_isl)\n",
    "total_marks =total_maths + total_isl\n",
    "average = total_marks/ total_std\n",
    "print(\"the average is:\", average)"
   ]
  },
  {
   "cell_type": "code",
   "execution_count": 47,
   "id": "bcfdfce5-3312-418e-8022-093488fc294c",
   "metadata": {},
   "outputs": [
    {
     "name": "stdout",
     "output_type": "stream",
     "text": [
      "Highest Marks in Maths: 100\n",
      "Lowest Marks in Maths: 90\n"
     ]
    }
   ],
   "source": [
    "# find greatest and lowest grade in maths\n",
    "\n",
    "maths_scores = [values[\"maths\"] for values in std_data.values()]\n",
    "\n",
    "highest_marks = max(maths_scores)\n",
    "lowest_marks = min(maths_scores)\n",
    "\n",
    "print(f\"Highest Marks in Maths: {highest_marks}\")\n",
    "print(f\"Lowest Marks in Maths: {lowest_marks}\")"
   ]
  },
  {
   "cell_type": "code",
   "execution_count": 49,
   "id": "cdfc4281-d2e1-466a-b6dd-df290d367250",
   "metadata": {},
   "outputs": [
    {
     "name": "stdout",
     "output_type": "stream",
     "text": [
      "Highest Marks in islamiat: 95\n",
      "Lowest Marks in islamiat: 90\n"
     ]
    }
   ],
   "source": [
    "# find greatest and lowest grade in islamiat\n",
    "\n",
    "isl_scores = [values[\"islamiat\"] for values in std_data.values()]\n",
    "\n",
    "highest_marks = max(isl_scores)\n",
    "lowest_marks = min(isl_scores)\n",
    "\n",
    "print(f\"Highest Marks in islamiat: {highest_marks}\")\n",
    "print(f\"Lowest Marks in islamiat: {lowest_marks}\")"
   ]
  },
  {
   "cell_type": "code",
   "execution_count": null,
   "id": "595660e5-64b4-4c72-92ea-ed2dbc323a6d",
   "metadata": {},
   "outputs": [],
   "source": []
  }
 ],
 "metadata": {
  "kernelspec": {
   "display_name": "Python 3 (ipykernel)",
   "language": "python",
   "name": "python3"
  },
  "language_info": {
   "codemirror_mode": {
    "name": "ipython",
    "version": 3
   },
   "file_extension": ".py",
   "mimetype": "text/x-python",
   "name": "python",
   "nbconvert_exporter": "python",
   "pygments_lexer": "ipython3",
   "version": "3.12.4"
  }
 },
 "nbformat": 4,
 "nbformat_minor": 5
}
